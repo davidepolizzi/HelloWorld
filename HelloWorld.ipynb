{
 "metadata": {
  "language_info": {
   "codemirror_mode": {
    "name": "ipython",
    "version": 3
   },
   "file_extension": ".py",
   "mimetype": "text/x-python",
   "name": "python",
   "nbconvert_exporter": "python",
   "pygments_lexer": "ipython3",
   "version": "3.7.9-final"
  },
  "orig_nbformat": 2,
  "kernelspec": {
   "name": "python3",
   "display_name": "Python 3",
   "language": "python"
  }
 },
 "nbformat": 4,
 "nbformat_minor": 2,
 "cells": [
  {
   "source": [
    "# this is just a hello world test"
   ],
   "cell_type": "markdown",
   "metadata": {}
  },
  {
   "cell_type": "code",
   "execution_count": 5,
   "metadata": {},
   "outputs": [],
   "source": [
    "import pandas as pd \n",
    "import numpy as np \n",
    "\n",
    "x = pd.read_csv('Test.csv')"
   ]
  },
  {
   "cell_type": "code",
   "execution_count": 6,
   "metadata": {},
   "outputs": [
    {
     "output_type": "stream",
     "name": "stdout",
     "text": [
      "<bound method NDFrame.describe of      EmpID             EmpName        EngDt TermDt  DepID  GenderID  RaceID  \\\n0        1    Mead, Lynnette R  01/Jan/2020    NaN      1         1       5   \n1        2       Brant, John O  01/Jan/2020    NaN      2         0       1   \n2        3     Coppin, Roger V  15/Sep/2020    NaN      1         0       3   \n3        4    Fleet, Kathryn U  01/Jan/2020    NaN      1         1       4   \n4        5      Kralj, Grace L  01/Jan/2020    NaN      3         1       1   \n..     ...                 ...          ...    ...    ...       ...     ...   \n101    102    Goddard, Frank Y  29/Aug/2020    NaN      3         0       4   \n102    103  Simpson, Douglas V  04/Nov/2021    NaN      1         0       2   \n103    104    Hyslop, Lesley U  10/Aug/2021    NaN      3         1       4   \n104    105     Rasul, Adrian K  09/May/2022    NaN      3         0       2   \n105    106     Hardy, Carmel U   08/08/2022    NaN      2         1       1   \n\n     MgrID          DOB  PayRate  Level  \n0        1  06/Jul/1973      NaN      1  \n1        2  26/Oct/1992      NaN      1  \n2        1  25/Aug/1992      NaN      2  \n3        1  11/Mar/1972      NaN      2  \n4        5  16/Jun/1976      NaN      1  \n..     ...          ...      ...    ...  \n101     95  27/Sep/1989      NaN      8  \n102     97  21/Dec/1972      NaN      8  \n103     95  15/Aug/2001      NaN      8  \n104     95  13/Jul/1998      NaN      8  \n105     91  13/Aug/2002      NaN      6  \n\n[106 rows x 11 columns]>\n"
     ]
    }
   ],
   "source": [
    "print(x.describe)"
   ]
  },
  {
   "cell_type": "code",
   "execution_count": null,
   "metadata": {},
   "outputs": [],
   "source": []
  }
 ]
}